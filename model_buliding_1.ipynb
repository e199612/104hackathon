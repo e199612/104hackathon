{
 "cells": [
  {
   "cell_type": "code",
   "execution_count": 1,
   "metadata": {
    "collapsed": true
   },
   "outputs": [],
   "source": [
    "# -*- coding: utf-8 -*-\n",
    "%matplotlib inline\n",
    "from __future__ import print_function\n",
    "from dataGen import *\n",
    "import pandas as pd\n",
    "import csv\n",
    "from six.moves import cPickle as pickle\n",
    "# machine learning\n",
    "from sklearn.linear_model import LogisticRegression\n",
    "from sklearn.svm import SVC, LinearSVC\n",
    "from sklearn.ensemble import RandomForestClassifier\n",
    "from sklearn.neighbors import KNeighborsClassifier\n",
    "from sklearn.naive_bayes import GaussianNB\n",
    "from sklearn.linear_model import Perceptron\n",
    "from sklearn.linear_model import SGDClassifier\n",
    "from sklearn.tree import DecisionTreeClassifier"
   ]
  },
  {
   "cell_type": "code",
   "execution_count": null,
   "metadata": {
    "collapsed": true
   },
   "outputs": [],
   "source": [
    "# import job's word2vec.csv\n",
    "import pickle\n",
    "job_vec = pd.read_csv(\"/mnt/Wendy/job_vector.csv\", sep=\",\")\n",
    "job_vec.head()"
   ]
  },
  {
   "cell_type": "code",
   "execution_count": null,
   "metadata": {
    "collapsed": true
   },
   "outputs": [],
   "source": [
    "# rename column name\n",
    "job_vec1 = job_vec.rename(columns= {'jobno':'jobNo'})"
   ]
  },
  {
   "cell_type": "code",
   "execution_count": 2,
   "metadata": {},
   "outputs": [
    {
     "data": {
      "text/html": [
       "<div>\n",
       "<style>\n",
       "    .dataframe thead tr:only-child th {\n",
       "        text-align: right;\n",
       "    }\n",
       "\n",
       "    .dataframe thead th {\n",
       "        text-align: left;\n",
       "    }\n",
       "\n",
       "    .dataframe tbody tr th {\n",
       "        vertical-align: top;\n",
       "    }\n",
       "</style>\n",
       "<table border=\"1\" class=\"dataframe\">\n",
       "  <thead>\n",
       "    <tr style=\"text-align: right;\">\n",
       "      <th></th>\n",
       "      <th>uid</th>\n",
       "      <th>jobNo</th>\n",
       "      <th>applyJob</th>\n",
       "      <th>saveJob</th>\n",
       "      <th>viewJob</th>\n",
       "      <th>viewJob_sum</th>\n",
       "      <th>saveJob_sum</th>\n",
       "      <th>r_view</th>\n",
       "      <th>r_save</th>\n",
       "      <th>invoice</th>\n",
       "      <th>...</th>\n",
       "      <th>s2</th>\n",
       "      <th>s3</th>\n",
       "      <th>addr_no</th>\n",
       "      <th>s9</th>\n",
       "      <th>need_emp</th>\n",
       "      <th>need_emp1</th>\n",
       "      <th>startby</th>\n",
       "      <th>exp_jobcat1</th>\n",
       "      <th>exp_jobcat2</th>\n",
       "      <th>exp_jobcat3</th>\n",
       "    </tr>\n",
       "  </thead>\n",
       "  <tbody>\n",
       "    <tr>\n",
       "      <th>0</th>\n",
       "      <td>2</td>\n",
       "      <td>208337</td>\n",
       "      <td>NaN</td>\n",
       "      <td>1.0</td>\n",
       "      <td>2.0</td>\n",
       "      <td>76.0</td>\n",
       "      <td>4.0</td>\n",
       "      <td>0.026316</td>\n",
       "      <td>0.25</td>\n",
       "      <td>5637971</td>\n",
       "      <td>...</td>\n",
       "      <td>0</td>\n",
       "      <td>0</td>\n",
       "      <td>6001002016</td>\n",
       "      <td>1</td>\n",
       "      <td>0</td>\n",
       "      <td>0.0</td>\n",
       "      <td>3</td>\n",
       "      <td>0</td>\n",
       "      <td>0</td>\n",
       "      <td>0</td>\n",
       "    </tr>\n",
       "    <tr>\n",
       "      <th>1</th>\n",
       "      <td>2</td>\n",
       "      <td>896465</td>\n",
       "      <td>NaN</td>\n",
       "      <td>NaN</td>\n",
       "      <td>1.0</td>\n",
       "      <td>76.0</td>\n",
       "      <td>4.0</td>\n",
       "      <td>0.013158</td>\n",
       "      <td>NaN</td>\n",
       "      <td>43816068</td>\n",
       "      <td>...</td>\n",
       "      <td>0</td>\n",
       "      <td>15</td>\n",
       "      <td>6001005013</td>\n",
       "      <td>1</td>\n",
       "      <td>1</td>\n",
       "      <td>1.0</td>\n",
       "      <td>3</td>\n",
       "      <td>0</td>\n",
       "      <td>0</td>\n",
       "      <td>0</td>\n",
       "    </tr>\n",
       "    <tr>\n",
       "      <th>2</th>\n",
       "      <td>2</td>\n",
       "      <td>1463885</td>\n",
       "      <td>NaN</td>\n",
       "      <td>NaN</td>\n",
       "      <td>1.0</td>\n",
       "      <td>76.0</td>\n",
       "      <td>4.0</td>\n",
       "      <td>0.013158</td>\n",
       "      <td>NaN</td>\n",
       "      <td>20954200</td>\n",
       "      <td>...</td>\n",
       "      <td>0</td>\n",
       "      <td>0</td>\n",
       "      <td>6001002020</td>\n",
       "      <td>1</td>\n",
       "      <td>1</td>\n",
       "      <td>1.0</td>\n",
       "      <td>2</td>\n",
       "      <td>0</td>\n",
       "      <td>0</td>\n",
       "      <td>0</td>\n",
       "    </tr>\n",
       "    <tr>\n",
       "      <th>3</th>\n",
       "      <td>2</td>\n",
       "      <td>3553643</td>\n",
       "      <td>NaN</td>\n",
       "      <td>NaN</td>\n",
       "      <td>1.0</td>\n",
       "      <td>76.0</td>\n",
       "      <td>4.0</td>\n",
       "      <td>0.013158</td>\n",
       "      <td>NaN</td>\n",
       "      <td>20954200</td>\n",
       "      <td>...</td>\n",
       "      <td>0</td>\n",
       "      <td>15</td>\n",
       "      <td>6001002020</td>\n",
       "      <td>1</td>\n",
       "      <td>1</td>\n",
       "      <td>1.0</td>\n",
       "      <td>3</td>\n",
       "      <td>0</td>\n",
       "      <td>0</td>\n",
       "      <td>0</td>\n",
       "    </tr>\n",
       "    <tr>\n",
       "      <th>4</th>\n",
       "      <td>2</td>\n",
       "      <td>4026316</td>\n",
       "      <td>NaN</td>\n",
       "      <td>1.0</td>\n",
       "      <td>2.0</td>\n",
       "      <td>76.0</td>\n",
       "      <td>4.0</td>\n",
       "      <td>0.026316</td>\n",
       "      <td>0.25</td>\n",
       "      <td>89400818</td>\n",
       "      <td>...</td>\n",
       "      <td>0</td>\n",
       "      <td>0</td>\n",
       "      <td>6001016010</td>\n",
       "      <td>11</td>\n",
       "      <td>1</td>\n",
       "      <td>1.0</td>\n",
       "      <td>1</td>\n",
       "      <td>0</td>\n",
       "      <td>0</td>\n",
       "      <td>0</td>\n",
       "    </tr>\n",
       "  </tbody>\n",
       "</table>\n",
       "<p>5 rows × 38 columns</p>\n",
       "</div>"
      ],
      "text/plain": [
       "   uid    jobNo  applyJob  saveJob  viewJob  viewJob_sum  saveJob_sum  \\\n",
       "0    2   208337       NaN      1.0      2.0         76.0          4.0   \n",
       "1    2   896465       NaN      NaN      1.0         76.0          4.0   \n",
       "2    2  1463885       NaN      NaN      1.0         76.0          4.0   \n",
       "3    2  3553643       NaN      NaN      1.0         76.0          4.0   \n",
       "4    2  4026316       NaN      1.0      2.0         76.0          4.0   \n",
       "\n",
       "     r_view  r_save   invoice     ...      s2  s3     addr_no  s9  need_emp  \\\n",
       "0  0.026316    0.25   5637971     ...       0   0  6001002016   1         0   \n",
       "1  0.013158     NaN  43816068     ...       0  15  6001005013   1         1   \n",
       "2  0.013158     NaN  20954200     ...       0   0  6001002020   1         1   \n",
       "3  0.013158     NaN  20954200     ...       0  15  6001002020   1         1   \n",
       "4  0.026316    0.25  89400818     ...       0   0  6001016010  11         1   \n",
       "\n",
       "   need_emp1  startby  exp_jobcat1  exp_jobcat2  exp_jobcat3  \n",
       "0        0.0        3            0            0            0  \n",
       "1        1.0        3            0            0            0  \n",
       "2        1.0        2            0            0            0  \n",
       "3        1.0        3            0            0            0  \n",
       "4        1.0        1            0            0            0  \n",
       "\n",
       "[5 rows x 38 columns]"
      ]
     },
     "execution_count": 2,
     "metadata": {},
     "output_type": "execute_result"
    }
   ],
   "source": [
    "# import pre-processed datamart\n",
    "ratio = pd.read_csv(\"pop_all.csv\")\n",
    "ratio.head()"
   ]
  },
  {
   "cell_type": "code",
   "execution_count": 3,
   "metadata": {},
   "outputs": [
    {
     "data": {
      "text/html": [
       "<div>\n",
       "<style>\n",
       "    .dataframe thead tr:only-child th {\n",
       "        text-align: right;\n",
       "    }\n",
       "\n",
       "    .dataframe thead th {\n",
       "        text-align: left;\n",
       "    }\n",
       "\n",
       "    .dataframe tbody tr th {\n",
       "        vertical-align: top;\n",
       "    }\n",
       "</style>\n",
       "<table border=\"1\" class=\"dataframe\">\n",
       "  <thead>\n",
       "    <tr style=\"text-align: right;\">\n",
       "      <th></th>\n",
       "      <th>uid</th>\n",
       "      <th>jobNo</th>\n",
       "      <th>applyJob</th>\n",
       "      <th>saveJob</th>\n",
       "      <th>viewJob</th>\n",
       "      <th>r_view</th>\n",
       "      <th>r_save</th>\n",
       "    </tr>\n",
       "  </thead>\n",
       "  <tbody>\n",
       "    <tr>\n",
       "      <th>0</th>\n",
       "      <td>2</td>\n",
       "      <td>208337</td>\n",
       "      <td>NaN</td>\n",
       "      <td>1.0</td>\n",
       "      <td>2.0</td>\n",
       "      <td>0.026316</td>\n",
       "      <td>0.25</td>\n",
       "    </tr>\n",
       "    <tr>\n",
       "      <th>1</th>\n",
       "      <td>2</td>\n",
       "      <td>896465</td>\n",
       "      <td>NaN</td>\n",
       "      <td>NaN</td>\n",
       "      <td>1.0</td>\n",
       "      <td>0.013158</td>\n",
       "      <td>NaN</td>\n",
       "    </tr>\n",
       "    <tr>\n",
       "      <th>2</th>\n",
       "      <td>2</td>\n",
       "      <td>1463885</td>\n",
       "      <td>NaN</td>\n",
       "      <td>NaN</td>\n",
       "      <td>1.0</td>\n",
       "      <td>0.013158</td>\n",
       "      <td>NaN</td>\n",
       "    </tr>\n",
       "    <tr>\n",
       "      <th>3</th>\n",
       "      <td>2</td>\n",
       "      <td>3553643</td>\n",
       "      <td>NaN</td>\n",
       "      <td>NaN</td>\n",
       "      <td>1.0</td>\n",
       "      <td>0.013158</td>\n",
       "      <td>NaN</td>\n",
       "    </tr>\n",
       "    <tr>\n",
       "      <th>4</th>\n",
       "      <td>2</td>\n",
       "      <td>4026316</td>\n",
       "      <td>NaN</td>\n",
       "      <td>1.0</td>\n",
       "      <td>2.0</td>\n",
       "      <td>0.026316</td>\n",
       "      <td>0.25</td>\n",
       "    </tr>\n",
       "  </tbody>\n",
       "</table>\n",
       "</div>"
      ],
      "text/plain": [
       "   uid    jobNo  applyJob  saveJob  viewJob    r_view  r_save\n",
       "0    2   208337       NaN      1.0      2.0  0.026316    0.25\n",
       "1    2   896465       NaN      NaN      1.0  0.013158     NaN\n",
       "2    2  1463885       NaN      NaN      1.0  0.013158     NaN\n",
       "3    2  3553643       NaN      NaN      1.0  0.013158     NaN\n",
       "4    2  4026316       NaN      1.0      2.0  0.026316    0.25"
      ]
     },
     "execution_count": 3,
     "metadata": {},
     "output_type": "execute_result"
    }
   ],
   "source": [
    "# choose only ratio columns\n",
    "ratio1 = ratio[['uid','jobNo','applyJob','saveJob','viewJob','r_view','r_save']]\n",
    "ratio1.head()"
   ]
  },
  {
   "cell_type": "code",
   "execution_count": 5,
   "metadata": {},
   "outputs": [
    {
     "name": "stderr",
     "output_type": "stream",
     "text": [
      "/usr/local/lib/python2.7/dist-packages/ipykernel_launcher.py:1: SettingWithCopyWarning: \n",
      "A value is trying to be set on a copy of a slice from a DataFrame.\n",
      "Try using .loc[row_indexer,col_indexer] = value instead\n",
      "\n",
      "See the caveats in the documentation: http://pandas.pydata.org/pandas-docs/stable/indexing.html#indexing-view-versus-copy\n",
      "  \"\"\"Entry point for launching an IPython kernel.\n"
     ]
    }
   ],
   "source": [
    "# processing step: ratio\n",
    "ratio1['applyJob'] = ratio1['applyJob']/ratio1['applyJob']"
   ]
  },
  {
   "cell_type": "code",
   "execution_count": null,
   "metadata": {
    "collapsed": true
   },
   "outputs": [],
   "source": [
    "# delete temporary data to release memory\n",
    "ratio.drop(ratio.index,inplace=True)"
   ]
  },
  {
   "cell_type": "code",
   "execution_count": null,
   "metadata": {
    "collapsed": true
   },
   "outputs": [],
   "source": [
    "# merge 300 columns\n",
    "join300 =  pd.merge(ratio1 , job_vec1 , how='left', on=['jobNo'],indicator=True)\n",
    "join300.head()"
   ]
  },
  {
   "cell_type": "code",
   "execution_count": 13,
   "metadata": {
    "collapsed": true
   },
   "outputs": [],
   "source": [
    "# training data\n",
    "train_new = ratio1.sample(frac = 0.7)"
   ]
  },
  {
   "cell_type": "code",
   "execution_count": 14,
   "metadata": {
    "collapsed": true
   },
   "outputs": [],
   "source": [
    "# test data\n",
    "t1 = pd.merge(ratio , train_new , how='left', on=['jobNo','uid'],indicator=True)\n",
    "less_data = t1[t1._merge!='both']\n",
    "test_new = less_data[['uid','jobNo','applyJob_x','saveJob_x','viewJob_x','r_view_x','r_save_x']]"
   ]
  },
  {
   "cell_type": "code",
   "execution_count": 15,
   "metadata": {
    "collapsed": true
   },
   "outputs": [],
   "source": [
    "test_new = test_new.rename(columns = {'applyJob_x': 'applyJob', 'saveJob_x': 'saveJob', 'viewJob_x': 'viewJob', 'r_view_x': 'r_view', 'r_save_x': 'r_save'})"
   ]
  },
  {
   "cell_type": "code",
   "execution_count": 16,
   "metadata": {
    "collapsed": true
   },
   "outputs": [],
   "source": [
    "# sort_values\n",
    "train_new = train_new.sort_values(['uid','jobNo'])\n",
    "test_new = test_new.sort_values(['uid','jobNo'])"
   ]
  },
  {
   "cell_type": "code",
   "execution_count": 17,
   "metadata": {
    "collapsed": true
   },
   "outputs": [],
   "source": [
    "#train data 補值\n",
    "X_train = train_new.fillna(0).drop(['applyJob','uid','jobNo'], axis=1)\n",
    "Y_train = train_new.fillna(0)[\"applyJob\"]"
   ]
  },
  {
   "cell_type": "code",
   "execution_count": 18,
   "metadata": {},
   "outputs": [
    {
     "data": {
      "text/plain": [
       "((21943299, 4), (21943299,), (9404271, 4), (9404271, 4))"
      ]
     },
     "execution_count": 18,
     "metadata": {},
     "output_type": "execute_result"
    }
   ],
   "source": [
    "#檢查筆數與欄位數\n",
    "X_test  = test_new.fillna(0).drop(['uid','jobNo','applyJob'], axis=1).copy()\n",
    "Y_test = test_new.fillna(0)[\"applyJob\"]\n",
    "X_train.shape, Y_train.shape, X_test.shape, X_test.shape"
   ]
  },
  {
   "cell_type": "markdown",
   "metadata": {},
   "source": [
    "## Model buliding"
   ]
  },
  {
   "cell_type": "code",
   "execution_count": 19,
   "metadata": {},
   "outputs": [
    {
     "data": {
      "text/plain": [
       "88.07"
      ]
     },
     "execution_count": 19,
     "metadata": {},
     "output_type": "execute_result"
    }
   ],
   "source": [
    "# NN\n",
    "from sklearn.neural_network import MLPClassifier\n",
    "nn = MLPClassifier(solver='lbfgs', alpha=1e-5, hidden_layer_sizes=(5, 2), random_state=1)\n",
    "nn.fit(X_train, Y_train)\n",
    "Y_pred = nn.predict(X_test)\n",
    "acc_nn = round(nn.score(X_train, Y_train) * 100, 2)\n",
    "acc_nn"
   ]
  },
  {
   "cell_type": "code",
   "execution_count": 24,
   "metadata": {
    "collapsed": true
   },
   "outputs": [],
   "source": [
    "# save nn-model in pickle\n",
    "import pickle\n",
    "f_nn = open(\"nn.pkl\", \"wb\")\n",
    "pickle.dump(nn, f_nn)\n",
    "# remember to close, or the model cann't run\n",
    "f_nn.close()"
   ]
  },
  {
   "cell_type": "code",
   "execution_count": null,
   "metadata": {
    "collapsed": true
   },
   "outputs": [],
   "source": [
    "# Logistic Regression \n",
    "logreg = LogisticRegression()\n",
    "logreg.fit(X_train, Y_train)\n",
    "Y_pred = logreg.predict(X_test)\n",
    "acc_log = round(logreg.score(X_train, Y_train) * 100, 2)\n",
    "acc_log"
   ]
  },
  {
   "cell_type": "code",
   "execution_count": null,
   "metadata": {
    "collapsed": true
   },
   "outputs": [],
   "source": [
    "# Logistic Regression_class weight=balanced\n",
    "logreg = LogisticRegression(class_weight='balanced')\n",
    "logreg.fit(X_train, Y_train)\n",
    "Y_pred = logreg.predict(X_test)\n",
    "acc_log = round(logreg.score(X_train, Y_train) * 100, 2)\n",
    "acc_log"
   ]
  },
  {
   "cell_type": "code",
   "execution_count": null,
   "metadata": {
    "collapsed": true
   },
   "outputs": [],
   "source": [
    "# Decision Tree\n",
    "decision_tree = DecisionTreeClassifier()\n",
    "decision_tree.fit(X_train, Y_train)\n",
    "Y_pred = decision_tree.predict(X_test)\n",
    "acc_decision_tree = round(decision_tree.score(X_train, Y_train) * 100, 2)\n",
    "acc_decision_tree"
   ]
  },
  {
   "cell_type": "code",
   "execution_count": null,
   "metadata": {
    "collapsed": true
   },
   "outputs": [],
   "source": [
    "# Random Forest\n",
    "random_forest = RandomForestClassifier(n_estimators=100)\n",
    "random_forest.fit(X_train, Y_train)\n",
    "Y_pred = random_forest.predict(X_test)\n",
    "random_forest.score(X_train, Y_train)\n",
    "acc_random_forest = round(random_forest.score(X_train, Y_train) * 100, 2)\n",
    "acc_random_forest"
   ]
  },
  {
   "cell_type": "code",
   "execution_count": null,
   "metadata": {
    "collapsed": true
   },
   "outputs": [],
   "source": [
    "#存成output\n",
    "submission = pd.DataFrame({\n",
    "        \"uid\": test_new[\"uid\"],\n",
    "        \"jobNo\": test_new[\"jobNo\"],\n",
    "        \"applyJob\": Y_pred\n",
    "    })\n",
    "submission.to_csv('submission2.csv', index=False)"
   ]
  },
  {
   "cell_type": "markdown",
   "metadata": {},
   "source": [
    "# Scoring"
   ]
  },
  {
   "cell_type": "code",
   "execution_count": 20,
   "metadata": {
    "collapsed": true
   },
   "outputs": [],
   "source": [
    "from sklearn.metrics import accuracy_score, f1_score, precision_score, recall_score, classification_report, confusion_matrix"
   ]
  },
  {
   "cell_type": "code",
   "execution_count": 21,
   "metadata": {
    "collapsed": true
   },
   "outputs": [],
   "source": [
    "def compute_measures(tp, fn, fp, tn):\n",
    "     recall = tn / (tn + fp)\n",
    "     precision = tn / (tn + fn)\n",
    "     F1 = 2 * (precision * recall) / (precision + recall)\n",
    "     accuracy = (tp + tn) / (tp + tn + fp + fn)\n",
    "     return recall, precision, F1, accuracy"
   ]
  },
  {
   "cell_type": "code",
   "execution_count": 23,
   "metadata": {},
   "outputs": [
    {
     "name": "stdout",
     "output_type": "stream",
     "text": [
      "0.230138165978\n",
      "0.738176547961\n",
      "0.88077119428\n",
      "0.350883022783\n"
     ]
    }
   ],
   "source": [
    "cm5 = np.zeros(2**2)\n",
    "cm5 += confusion_matrix(Y_test, Y_pred).flatten()\n",
    "recall, precision, f1score, accuracy = compute_measures(*cm5)\n",
    "print(recall)\n",
    "print(precision)\n",
    "print(accuracy)\n",
    "print(f1score)"
   ]
  },
  {
   "cell_type": "code",
   "execution_count": null,
   "metadata": {
    "collapsed": true
   },
   "outputs": [],
   "source": [
    "cm = np.zeros(2**2)\n",
    "cm += confusion_matrix(Y_test, Y_pred).flatten()\n",
    "recall, precision, f1score, accuracy = compute_measures(*cm)\n",
    "print(recall)\n",
    "print(precision)\n",
    "print(accuracy)\n",
    "print(f1score)"
   ]
  },
  {
   "cell_type": "code",
   "execution_count": null,
   "metadata": {
    "collapsed": true
   },
   "outputs": [],
   "source": [
    "#Logistic Regression_class weight=balanced\n",
    "cm2 = np.zeros(2**2)\n",
    "cm2 += confusion_matrix(Y_test, Y_pred).flatten()\n",
    "recall, precision, f1score, accuracy = compute_measures(*cm2)\n",
    "print(recall)\n",
    "print(precision)\n",
    "print(accuracy)\n",
    "print(f1score)"
   ]
  },
  {
   "cell_type": "code",
   "execution_count": null,
   "metadata": {
    "collapsed": true
   },
   "outputs": [],
   "source": [
    "#Decision Tree\n",
    "cm3 = np.zeros(2**2)\n",
    "cm3 += confusion_matrix(Y_test, Y_pred).flatten()\n",
    "recall, precision, f1score, accuracy = compute_measures(*cm3)\n",
    "print(recall)\n",
    "print(precision)\n",
    "print(accuracy)\n",
    "print(f1score)"
   ]
  },
  {
   "cell_type": "code",
   "execution_count": null,
   "metadata": {
    "collapsed": true
   },
   "outputs": [],
   "source": [
    "# Random Forest\n",
    "cm4 = np.zeros(2**2)\n",
    "cm4 += confusion_matrix(Y_test, Y_pred).flatten()\n",
    "recall, precision, f1score, accuracy = compute_measures(*cm3)\n",
    "print(recall)\n",
    "print(precision)\n",
    "print(accuracy)\n",
    "print(f1score)"
   ]
  },
  {
   "cell_type": "markdown",
   "metadata": {},
   "source": [
    "# Save model"
   ]
  },
  {
   "cell_type": "code",
   "execution_count": null,
   "metadata": {
    "collapsed": true
   },
   "outputs": [],
   "source": [
    "# save logistic regression model\n",
    "import pickle\n",
    "f_model = open(\"log1_model.pkl\", 'wb')\n",
    "pickle.dump(logreg, f_model)\n",
    "f_model.close"
   ]
  }
 ],
 "metadata": {
  "kernelspec": {
   "display_name": "Python 2",
   "language": "python",
   "name": "python2"
  },
  "language_info": {
   "codemirror_mode": {
    "name": "ipython",
    "version": 2
   },
   "file_extension": ".py",
   "mimetype": "text/x-python",
   "name": "python",
   "nbconvert_exporter": "python",
   "pygments_lexer": "ipython2",
   "version": "2.7.12"
  }
 },
 "nbformat": 4,
 "nbformat_minor": 2
}
