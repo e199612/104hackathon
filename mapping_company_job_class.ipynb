{
 "cells": [
  {
   "cell_type": "code",
   "execution_count": 2,
   "metadata": {
    "collapsed": true
   },
   "outputs": [],
   "source": [
    "# -*- coding: utf-8 -*-\n",
    "%matplotlib inline\n",
    "from datetime import datetime\n",
    "import numpy as np\n",
    "import pandas as pd\n",
    "import matplotlib.pyplot as plt\n",
    "import matplotlib as mpl\n",
    "import re,math\n",
    "import pandas as pd"
   ]
  },
  {
   "cell_type": "markdown",
   "metadata": {},
   "source": [
    "### Connection between  invoice <-> \"company's classification\""
   ]
  },
  {
   "cell_type": "code",
   "execution_count": 22,
   "metadata": {
    "collapsed": true
   },
   "outputs": [],
   "source": [
    "# load company data\n",
    "data = pd.read_csv('industry_3.csv')"
   ]
  },
  {
   "cell_type": "code",
   "execution_count": 24,
   "metadata": {},
   "outputs": [
    {
     "data": {
      "text/html": [
       "<div>\n",
       "<table border=\"1\" class=\"dataframe\">\n",
       "  <thead>\n",
       "    <tr style=\"text-align: right;\">\n",
       "      <th></th>\n",
       "      <th>num</th>\n",
       "      <th>class1</th>\n",
       "      <th>big</th>\n",
       "      <th>mid</th>\n",
       "    </tr>\n",
       "  </thead>\n",
       "  <tbody>\n",
       "    <tr>\n",
       "      <th>0</th>\n",
       "      <td>1000000000</td>\n",
       "      <td>不拘</td>\n",
       "      <td>不拘</td>\n",
       "      <td>不拘</td>\n",
       "    </tr>\n",
       "    <tr>\n",
       "      <th>1</th>\n",
       "      <td>1001000000</td>\n",
       "      <td>電子製造業</td>\n",
       "      <td>電子資訊 ／軟體／半導體相關業</td>\n",
       "      <td>電子資訊 ／軟體／半導體相關業</td>\n",
       "    </tr>\n",
       "    <tr>\n",
       "      <th>2</th>\n",
       "      <td>1001001000</td>\n",
       "      <td>知識密集服務業</td>\n",
       "      <td>電子資訊 ／軟體／半導體相關業</td>\n",
       "      <td>軟體及網路相關業</td>\n",
       "    </tr>\n",
       "    <tr>\n",
       "      <th>3</th>\n",
       "      <td>1001001001</td>\n",
       "      <td>知識密集服務業</td>\n",
       "      <td>電子資訊 ／軟體／半導體相關業</td>\n",
       "      <td>軟體及網路相關業</td>\n",
       "    </tr>\n",
       "    <tr>\n",
       "      <th>4</th>\n",
       "      <td>1001001002</td>\n",
       "      <td>知識密集服務業</td>\n",
       "      <td>電子資訊 ／軟體／半導體相關業</td>\n",
       "      <td>軟體及網路相關業</td>\n",
       "    </tr>\n",
       "  </tbody>\n",
       "</table>\n",
       "</div>"
      ],
      "text/plain": [
       "          num   class1              big              mid\n",
       "0  1000000000       不拘               不拘               不拘\n",
       "1  1001000000    電子製造業  電子資訊 ／軟體／半導體相關業  電子資訊 ／軟體／半導體相關業\n",
       "2  1001001000  知識密集服務業  電子資訊 ／軟體／半導體相關業         軟體及網路相關業\n",
       "3  1001001001  知識密集服務業  電子資訊 ／軟體／半導體相關業         軟體及網路相關業\n",
       "4  1001001002  知識密集服務業  電子資訊 ／軟體／半導體相關業         軟體及網路相關業"
      ]
     },
     "execution_count": 24,
     "metadata": {},
     "output_type": "execute_result"
    }
   ],
   "source": [
    "del data['detail']\n",
    "data.head()"
   ]
  },
  {
   "cell_type": "code",
   "execution_count": 3,
   "metadata": {},
   "outputs": [],
   "source": [
    "# read job_structured.csv \n",
    "companyno = pd.read_csv('/Users/youngmihuang/Desktop/104/data/job_structured_info.csv', sep='|')"
   ]
  },
  {
   "cell_type": "code",
   "execution_count": 13,
   "metadata": {
    "collapsed": true
   },
   "outputs": [],
   "source": [
    "# choose specified columns\n",
    "company1 = companyno[['invoice','industry','jobno']]"
   ]
  },
  {
   "cell_type": "code",
   "execution_count": 10,
   "metadata": {},
   "outputs": [
    {
     "data": {
      "text/html": [
       "<div>\n",
       "<table border=\"1\" class=\"dataframe\">\n",
       "  <thead>\n",
       "    <tr style=\"text-align: right;\">\n",
       "      <th></th>\n",
       "      <th>invoice</th>\n",
       "      <th>num</th>\n",
       "    </tr>\n",
       "  </thead>\n",
       "  <tbody>\n",
       "    <tr>\n",
       "      <th>0</th>\n",
       "      <td>4541302</td>\n",
       "      <td>1001003003</td>\n",
       "    </tr>\n",
       "    <tr>\n",
       "      <th>1</th>\n",
       "      <td>22099218</td>\n",
       "      <td>1001006001</td>\n",
       "    </tr>\n",
       "    <tr>\n",
       "      <th>2</th>\n",
       "      <td>84149738</td>\n",
       "      <td>1001004002</td>\n",
       "    </tr>\n",
       "    <tr>\n",
       "      <th>3</th>\n",
       "      <td>76027628</td>\n",
       "      <td>1001006002</td>\n",
       "    </tr>\n",
       "    <tr>\n",
       "      <th>4</th>\n",
       "      <td>4541302</td>\n",
       "      <td>1001003003</td>\n",
       "    </tr>\n",
       "  </tbody>\n",
       "</table>\n",
       "</div>"
      ],
      "text/plain": [
       "    invoice         num\n",
       "0   4541302  1001003003\n",
       "1  22099218  1001006001\n",
       "2  84149738  1001004002\n",
       "3  76027628  1001006002\n",
       "4   4541302  1001003003"
      ]
     },
     "execution_count": 10,
     "metadata": {},
     "output_type": "execute_result"
    }
   ],
   "source": [
    "# change column names : use rename\n",
    "company2 = company1.rename(columns = {\"industry\":\"num\"})\n",
    "company2.head()"
   ]
  },
  {
   "cell_type": "code",
   "execution_count": 45,
   "metadata": {
    "collapsed": true
   },
   "outputs": [],
   "source": [
    "# merge company2 and original data\n",
    "join1 = pd.merge(company2, data, on='num', how='left') "
   ]
  },
  {
   "cell_type": "code",
   "execution_count": 46,
   "metadata": {
    "collapsed": true
   },
   "outputs": [],
   "source": [
    "# save to .csv\n",
    "join1.to_csv('mapping_class.csv', index = False)"
   ]
  },
  {
   "cell_type": "markdown",
   "metadata": {
    "collapsed": true
   },
   "source": [
    "### Connection between  invoice <-> \"job's classification\""
   ]
  },
  {
   "cell_type": "code",
   "execution_count": 4,
   "metadata": {},
   "outputs": [
    {
     "data": {
      "text/html": [
       "<div>\n",
       "<table border=\"1\" class=\"dataframe\">\n",
       "  <thead>\n",
       "    <tr style=\"text-align: right;\">\n",
       "      <th></th>\n",
       "      <th>invoice</th>\n",
       "      <th>jobno</th>\n",
       "      <th>jobcat1</th>\n",
       "      <th>jobcat2</th>\n",
       "      <th>jobcat3</th>\n",
       "    </tr>\n",
       "  </thead>\n",
       "  <tbody>\n",
       "    <tr>\n",
       "      <th>0</th>\n",
       "      <td>4541302</td>\n",
       "      <td>788127</td>\n",
       "      <td>2008001006</td>\n",
       "      <td>2008001010</td>\n",
       "      <td>2008001007</td>\n",
       "    </tr>\n",
       "    <tr>\n",
       "      <th>1</th>\n",
       "      <td>22099218</td>\n",
       "      <td>881206</td>\n",
       "      <td>2008001016</td>\n",
       "      <td>2009003006</td>\n",
       "      <td>2008001009</td>\n",
       "    </tr>\n",
       "    <tr>\n",
       "      <th>2</th>\n",
       "      <td>84149738</td>\n",
       "      <td>962383</td>\n",
       "      <td>2008001009</td>\n",
       "      <td>2008001018</td>\n",
       "      <td>2007001005</td>\n",
       "    </tr>\n",
       "    <tr>\n",
       "      <th>3</th>\n",
       "      <td>76027628</td>\n",
       "      <td>3338171</td>\n",
       "      <td>2003001009</td>\n",
       "      <td>2003001003</td>\n",
       "      <td>2003001004</td>\n",
       "    </tr>\n",
       "    <tr>\n",
       "      <th>4</th>\n",
       "      <td>4541302</td>\n",
       "      <td>3716258</td>\n",
       "      <td>2010001009</td>\n",
       "      <td>2009002001</td>\n",
       "      <td>0</td>\n",
       "    </tr>\n",
       "  </tbody>\n",
       "</table>\n",
       "</div>"
      ],
      "text/plain": [
       "    invoice    jobno     jobcat1     jobcat2     jobcat3\n",
       "0   4541302   788127  2008001006  2008001010  2008001007\n",
       "1  22099218   881206  2008001016  2009003006  2008001009\n",
       "2  84149738   962383  2008001009  2008001018  2007001005\n",
       "3  76027628  3338171  2003001009  2003001003  2003001004\n",
       "4   4541302  3716258  2010001009  2009002001           0"
      ]
     },
     "execution_count": 4,
     "metadata": {},
     "output_type": "execute_result"
    }
   ],
   "source": [
    "# arrange job_info.csv\n",
    "# vertical integration start\n",
    "company3 = companyno[['invoice','jobno','jobcat1','jobcat2','jobcat3']]\n",
    "company3.head()"
   ]
  },
  {
   "cell_type": "code",
   "execution_count": 8,
   "metadata": {},
   "outputs": [
    {
     "data": {
      "text/html": [
       "<div>\n",
       "<table border=\"1\" class=\"dataframe\">\n",
       "  <thead>\n",
       "    <tr style=\"text-align: right;\">\n",
       "      <th></th>\n",
       "      <th>invoice</th>\n",
       "      <th>jobno</th>\n",
       "      <th>jobcat1</th>\n",
       "    </tr>\n",
       "  </thead>\n",
       "  <tbody>\n",
       "    <tr>\n",
       "      <th>0</th>\n",
       "      <td>4541302</td>\n",
       "      <td>788127</td>\n",
       "      <td>2008001010</td>\n",
       "    </tr>\n",
       "    <tr>\n",
       "      <th>1</th>\n",
       "      <td>22099218</td>\n",
       "      <td>881206</td>\n",
       "      <td>2009003006</td>\n",
       "    </tr>\n",
       "    <tr>\n",
       "      <th>2</th>\n",
       "      <td>84149738</td>\n",
       "      <td>962383</td>\n",
       "      <td>2008001018</td>\n",
       "    </tr>\n",
       "    <tr>\n",
       "      <th>3</th>\n",
       "      <td>76027628</td>\n",
       "      <td>3338171</td>\n",
       "      <td>2003001003</td>\n",
       "    </tr>\n",
       "    <tr>\n",
       "      <th>4</th>\n",
       "      <td>4541302</td>\n",
       "      <td>3716258</td>\n",
       "      <td>2009002001</td>\n",
       "    </tr>\n",
       "  </tbody>\n",
       "</table>\n",
       "</div>"
      ],
      "text/plain": [
       "    invoice    jobno     jobcat1\n",
       "0   4541302   788127  2008001010\n",
       "1  22099218   881206  2009003006\n",
       "2  84149738   962383  2008001018\n",
       "3  76027628  3338171  2003001003\n",
       "4   4541302  3716258  2009002001"
      ]
     },
     "execution_count": 8,
     "metadata": {},
     "output_type": "execute_result"
    }
   ],
   "source": [
    "company4 = companyno[['invoice', 'jobno', 'jobcat1']]\n",
    "company5 = companyno[['invoice', 'jobno', 'jobcat2']]\n",
    "company6 = company5.rename( columns ={'jobcat2': 'jobcat1'})\n",
    "company6.head()"
   ]
  },
  {
   "cell_type": "code",
   "execution_count": 9,
   "metadata": {
    "collapsed": true
   },
   "outputs": [],
   "source": [
    "company7 = companyno[['invoice', 'jobno', 'jobcat3']]\n",
    "company8 = company7.rename( columns ={'jobcat3': 'jobcat1'})"
   ]
  },
  {
   "cell_type": "code",
   "execution_count": 10,
   "metadata": {},
   "outputs": [
    {
     "data": {
      "text/html": [
       "<div>\n",
       "<table border=\"1\" class=\"dataframe\">\n",
       "  <thead>\n",
       "    <tr style=\"text-align: right;\">\n",
       "      <th></th>\n",
       "      <th>invoice</th>\n",
       "      <th>jobno</th>\n",
       "      <th>jobcat1</th>\n",
       "    </tr>\n",
       "  </thead>\n",
       "  <tbody>\n",
       "    <tr>\n",
       "      <th>0</th>\n",
       "      <td>4541302</td>\n",
       "      <td>788127</td>\n",
       "      <td>2008001006</td>\n",
       "    </tr>\n",
       "    <tr>\n",
       "      <th>1</th>\n",
       "      <td>22099218</td>\n",
       "      <td>881206</td>\n",
       "      <td>2008001016</td>\n",
       "    </tr>\n",
       "    <tr>\n",
       "      <th>2</th>\n",
       "      <td>84149738</td>\n",
       "      <td>962383</td>\n",
       "      <td>2008001009</td>\n",
       "    </tr>\n",
       "    <tr>\n",
       "      <th>3</th>\n",
       "      <td>76027628</td>\n",
       "      <td>3338171</td>\n",
       "      <td>2003001009</td>\n",
       "    </tr>\n",
       "    <tr>\n",
       "      <th>4</th>\n",
       "      <td>4541302</td>\n",
       "      <td>3716258</td>\n",
       "      <td>2010001009</td>\n",
       "    </tr>\n",
       "  </tbody>\n",
       "</table>\n",
       "</div>"
      ],
      "text/plain": [
       "    invoice    jobno     jobcat1\n",
       "0   4541302   788127  2008001006\n",
       "1  22099218   881206  2008001016\n",
       "2  84149738   962383  2008001009\n",
       "3  76027628  3338171  2003001009\n",
       "4   4541302  3716258  2010001009"
      ]
     },
     "execution_count": 10,
     "metadata": {},
     "output_type": "execute_result"
    }
   ],
   "source": [
    "# vertical integration finish\n",
    "company8 = pd.concat([company4 , company6, company8], axis =0)\n",
    "company8.head()"
   ]
  },
  {
   "cell_type": "code",
   "execution_count": 11,
   "metadata": {},
   "outputs": [
    {
     "data": {
      "text/html": [
       "<div>\n",
       "<table border=\"1\" class=\"dataframe\">\n",
       "  <thead>\n",
       "    <tr style=\"text-align: right;\">\n",
       "      <th></th>\n",
       "      <th>類目代碼</th>\n",
       "      <th>big</th>\n",
       "      <th>mid</th>\n",
       "      <th>manager_ind</th>\n",
       "    </tr>\n",
       "  </thead>\n",
       "  <tbody>\n",
       "    <tr>\n",
       "      <th>0</th>\n",
       "      <td>2001000000</td>\n",
       "      <td>經營／人資類</td>\n",
       "      <td>經營／人資類</td>\n",
       "      <td>0</td>\n",
       "    </tr>\n",
       "    <tr>\n",
       "      <th>1</th>\n",
       "      <td>2001001000</td>\n",
       "      <td>經營／人資類</td>\n",
       "      <td>經營／幕僚類人員</td>\n",
       "      <td>0</td>\n",
       "    </tr>\n",
       "    <tr>\n",
       "      <th>2</th>\n",
       "      <td>2001001001</td>\n",
       "      <td>經營／人資類</td>\n",
       "      <td>經營／幕僚類人員</td>\n",
       "      <td>1</td>\n",
       "    </tr>\n",
       "    <tr>\n",
       "      <th>3</th>\n",
       "      <td>2001001002</td>\n",
       "      <td>經營／人資類</td>\n",
       "      <td>經營／幕僚類人員</td>\n",
       "      <td>0</td>\n",
       "    </tr>\n",
       "    <tr>\n",
       "      <th>4</th>\n",
       "      <td>2001001003</td>\n",
       "      <td>經營／人資類</td>\n",
       "      <td>經營／幕僚類人員</td>\n",
       "      <td>0</td>\n",
       "    </tr>\n",
       "  </tbody>\n",
       "</table>\n",
       "</div>"
      ],
      "text/plain": [
       "         類目代碼     big       mid  manager_ind\n",
       "0  2001000000  經營／人資類    經營／人資類            0\n",
       "1  2001001000  經營／人資類  經營／幕僚類人員            0\n",
       "2  2001001001  經營／人資類  經營／幕僚類人員            1\n",
       "3  2001001002  經營／人資類  經營／幕僚類人員            0\n",
       "4  2001001003  經營／人資類  經營／幕僚類人員            0"
      ]
     },
     "execution_count": 11,
     "metadata": {},
     "output_type": "execute_result"
    }
   ],
   "source": [
    "# load jobtitle data\n",
    "jobtitle = pd.read_csv('/Users/youngmihuang/Desktop/104/category/job_category_1.csv')\n",
    "jobtitle1 = jobtitle.loc[: ,['類目代碼','big','mid', 'manager_ind']]\n",
    "jobtitle1.head()"
   ]
  },
  {
   "cell_type": "code",
   "execution_count": 12,
   "metadata": {
    "collapsed": true
   },
   "outputs": [],
   "source": [
    "# rename\n",
    "jobtitle3 = jobtitle1.rename(columns = {\"類目代碼\": \"jobcat1\"})"
   ]
  },
  {
   "cell_type": "code",
   "execution_count": 13,
   "metadata": {
    "collapsed": true
   },
   "outputs": [],
   "source": [
    "# merge job_info & job_title \n",
    "join_job = pd.merge(company8, jobtitle3, on='jobcat1', how='left') "
   ]
  },
  {
   "cell_type": "code",
   "execution_count": 14,
   "metadata": {},
   "outputs": [
    {
     "data": {
      "text/html": [
       "<div>\n",
       "<table border=\"1\" class=\"dataframe\">\n",
       "  <thead>\n",
       "    <tr style=\"text-align: right;\">\n",
       "      <th></th>\n",
       "      <th>invoice</th>\n",
       "      <th>jobno</th>\n",
       "      <th>jobcat1</th>\n",
       "      <th>big</th>\n",
       "      <th>mid</th>\n",
       "      <th>manager_ind</th>\n",
       "    </tr>\n",
       "  </thead>\n",
       "  <tbody>\n",
       "    <tr>\n",
       "      <th>0</th>\n",
       "      <td>4541302</td>\n",
       "      <td>788127</td>\n",
       "      <td>2008001006</td>\n",
       "      <td>研發相關類</td>\n",
       "      <td>工程研發類</td>\n",
       "      <td>0.0</td>\n",
       "    </tr>\n",
       "    <tr>\n",
       "      <th>1</th>\n",
       "      <td>22099218</td>\n",
       "      <td>881206</td>\n",
       "      <td>2008001016</td>\n",
       "      <td>研發相關類</td>\n",
       "      <td>工程研發類</td>\n",
       "      <td>0.0</td>\n",
       "    </tr>\n",
       "    <tr>\n",
       "      <th>2</th>\n",
       "      <td>84149738</td>\n",
       "      <td>962383</td>\n",
       "      <td>2008001009</td>\n",
       "      <td>研發相關類</td>\n",
       "      <td>工程研發類</td>\n",
       "      <td>0.0</td>\n",
       "    </tr>\n",
       "    <tr>\n",
       "      <th>3</th>\n",
       "      <td>76027628</td>\n",
       "      <td>3338171</td>\n",
       "      <td>2003001009</td>\n",
       "      <td>財會／金融專業類</td>\n",
       "      <td>財務／會計／稅務類</td>\n",
       "      <td>0.0</td>\n",
       "    </tr>\n",
       "    <tr>\n",
       "      <th>4</th>\n",
       "      <td>4541302</td>\n",
       "      <td>3716258</td>\n",
       "      <td>2010001009</td>\n",
       "      <td>操作／技術／維修類</td>\n",
       "      <td>操作／技術類</td>\n",
       "      <td>0.0</td>\n",
       "    </tr>\n",
       "  </tbody>\n",
       "</table>\n",
       "</div>"
      ],
      "text/plain": [
       "    invoice    jobno     jobcat1        big        mid  manager_ind\n",
       "0   4541302   788127  2008001006      研發相關類      工程研發類          0.0\n",
       "1  22099218   881206  2008001016      研發相關類      工程研發類          0.0\n",
       "2  84149738   962383  2008001009      研發相關類      工程研發類          0.0\n",
       "3  76027628  3338171  2003001009   財會／金融專業類  財務／會計／稅務類          0.0\n",
       "4   4541302  3716258  2010001009  操作／技術／維修類     操作／技術類          0.0"
      ]
     },
     "execution_count": 14,
     "metadata": {},
     "output_type": "execute_result"
    }
   ],
   "source": [
    "join_job.head()"
   ]
  },
  {
   "cell_type": "code",
   "execution_count": 15,
   "metadata": {},
   "outputs": [
    {
     "name": "stdout",
     "output_type": "stream",
     "text": [
      "<class 'pandas.core.frame.DataFrame'>\n",
      "Int64Index: 1853835 entries, 0 to 1853834\n",
      "Data columns (total 6 columns):\n",
      "invoice        int64\n",
      "jobno          int64\n",
      "jobcat1        int64\n",
      "big            object\n",
      "mid            object\n",
      "manager_ind    float64\n",
      "dtypes: float64(1), int64(3), object(2)\n",
      "memory usage: 99.0+ MB\n"
     ]
    }
   ],
   "source": [
    "join_job.info()"
   ]
  },
  {
   "cell_type": "code",
   "execution_count": 50,
   "metadata": {
    "collapsed": true
   },
   "outputs": [],
   "source": [
    "# Save to_csv\n",
    "join_job.to_csv('mapping_job_class.csv', index= False)"
   ]
  }
 ],
 "metadata": {
  "kernelspec": {
   "display_name": "Python 2",
   "language": "python",
   "name": "python2"
  },
  "language_info": {
   "codemirror_mode": {
    "name": "ipython",
    "version": 2
   },
   "file_extension": ".py",
   "mimetype": "text/x-python",
   "name": "python",
   "nbconvert_exporter": "python",
   "pygments_lexer": "ipython2",
   "version": "2.7.12"
  }
 },
 "nbformat": 4,
 "nbformat_minor": 2
}
